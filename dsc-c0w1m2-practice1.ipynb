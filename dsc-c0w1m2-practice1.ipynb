{
 "cells": [
  {
   "cell_type": "markdown",
   "metadata": {},
   "source": [
    "# Practice Lab for Types of Data"
   ]
  },
  {
   "cell_type": "markdown",
   "metadata": {},
   "source": [
    "You are given a record of dogs that have visited a small vet clinic in the past few hours. The clinic is currently very busy. There is a new virus that turns some dogs (who are usually by default all good boys and girls) into bad doggies. Also a very nasty doggy flu has been going around at the same time. \n",
    "\n",
    "* Given the situation, data entry has been rushed and there are some inconsistencies that need to be addressed and type conversion you will need to do to get the data into your organization's standard. \n",
    "* Your direct manager (who is not a data person) is European and wants the dog length to be converted to metric because he thinks that the inch is a preposterous unit of measurement.\n",
    "* The head veterinarian wants a flagging system for dogs that come in running a fever.\n",
    "\n",
    "\n",
    "You, the only data analyst at this small clinic, have been assigned these tasks. Exercise your knowledge of string cleaning, mathematical operations on numeric quantities, and booleans in order to complete the work.\n"
   ]
  },
  {
   "cell_type": "code",
   "execution_count": 20,
   "metadata": {},
   "outputs": [],
   "source": [
    "# load data given to you\n",
    "dog_data = [['Name', 'Breed', 'Good Doggy?', 'Length [in]', 'Weight Range', 'Body Temp [F]'],\n",
    "    [\"Buddy\", \"Golden Retriever\", \"Good\", 24, 'Overweight', 101.5],\n",
    "    [\"Cooper\", \"Doberman Pinscher\", \"Bad\", 28, 'Normal',  105.2],\n",
    "    [\"Max\", \"GERMAN Shepherd\", \"Good\", 26, 'Normal', 100.2],\n",
    "    [\"Bella\", \"Chow Chow\", \"Bad\", 20, 'Normal', 100.5],\n",
    "    [\"Lucy\", \" Yorkshire Terrier\", \"Good\", 9, 'Normal', 102.0],\n",
    "    [\"Charlie\", \"Beagle\", \"Good\", 13, 'Overweight', 100.4],\n",
    "    [\"Daisy\", \"Akita\", \"Bad\", 24, 'Normal',99.8],\n",
    "    [\"Bailey\", \"JACK russell terrier\", \"Bad\", 10, 'Underweight', 101.2],\n",
    "    [\"Lola\", \"Rottweiler   \", \"Good\", 27, 'Normal', 102.5],\n",
    "    [\"Sadie\", \"Siberian_Husky\", \"Bad\", 23, 'Normal', 99.5],\n",
    "    [\"Penny\", \"STANDARD Poodle\", \"Good\", 18, 'Underweight', 100.7],\n",
    "    [\"Bruno\", \"Bulldog\", \"Bad\", 14, 'Normal', 104.1],\n",
    "    [\"Rosie\", \"Beagle\", \"Good\", 13, 'Normal', 100.6],\n",
    "    [\"Duke\", \"    DOBERMAN PINSCHER\", \"Good\", 28,  'Normal',100.1],\n",
    "    [\"Luna\", \"Shiba Inu\", \"Good\", 17, 'Obese',  100.3],\n",
    "    [\"Scout\", \"Golden_Retriever\", \"Good\", 22, 'Normal', 103.5],\n",
    "    [\"Rex\", \"Rottweiler\", \"Bad\", 23, 'Normal', 100.2],\n",
    "]"
   ]
  },
  {
   "cell_type": "markdown",
   "metadata": {},
   "source": [
    "### Instructions"
   ]
  },
  {
   "cell_type": "markdown",
   "metadata": {},
   "source": [
    "1. Write a clean_string function that takes in a string and removes leading/trailing spaces, replaces underscores with spaces, and capitalizes the first letter of each word. Use this function to replace the values in the 'Breed' column with the new cleaned values."
   ]
  },
  {
   "cell_type": "code",
   "execution_count": 15,
   "metadata": {},
   "outputs": [
    {
     "data": {
      "text/plain": [
       "[['Name',\n",
       "  'Breed',\n",
       "  'Good Doggy?',\n",
       "  'Length [cm]',\n",
       "  'Weight Range',\n",
       "  'Body Temp [F]'],\n",
       " ['Buddy', 'Golden Retriever', True, 60.96, 3, 101.5],\n",
       " ['Cooper', 'Doberman Pinscher', False, 71.12, 1, 105.2],\n",
       " ['Max', 'German Shepherd', True, 66.04, 1, 100.2],\n",
       " ['Bella', 'Chow Chow', False, 50.8, 1, 100.5],\n",
       " ['Lucy', 'Yorkshire Terrier', True, 22.86, 1, 102.0],\n",
       " ['Charlie', 'Beagle', True, 33.02, 3, 100.4],\n",
       " ['Daisy', 'Akita', False, 60.96, 1, 99.8],\n",
       " ['Bailey', 'Jack Russell Terrier', False, 25.4, 0, 101.2],\n",
       " ['Lola', 'Rottweiler', True, 68.58, 1, 102.5],\n",
       " ['Sadie', 'Siberian Husky', False, 58.42, 1, 99.5],\n",
       " ['Penny', 'Standard Poodle', True, 45.72, 0, 100.7],\n",
       " ['Bruno', 'Bulldog', False, 35.56, 1, 104.1],\n",
       " ['Rosie', 'Beagle', True, 33.02, 1, 100.6],\n",
       " ['Duke', 'Doberman Pinscher', True, 71.12, 1, 100.1],\n",
       " ['Luna', 'Shiba Inu', True, 43.18, 2, 100.3],\n",
       " ['Scout', 'Golden Retriever', True, 55.88, 1, 103.5],\n",
       " ['Rex', 'Rottweiler', False, 58.42, 1, 100.2]]"
      ]
     },
     "execution_count": 15,
     "metadata": {},
     "output_type": "execute_result"
    }
   ],
   "source": [
    "def clean_string(raw_text):\n",
    "    cleaned_string = raw_text.strip().replace(\"_\",\" \").title()\n",
    "    return cleaned_string\n",
    "\n",
    "for ix, row in enumerate(dog_data):\n",
    "    if ix > 0: # ignore header\n",
    "        row[1] = clean_string(row[1])\n",
    "\n",
    "dog_data\n"
   ]
  },
  {
   "cell_type": "markdown",
   "metadata": {},
   "source": [
    "2. Transform lengths from inches to centimeters."
   ]
  },
  {
   "cell_type": "code",
   "execution_count": 16,
   "metadata": {},
   "outputs": [
    {
     "data": {
      "text/plain": [
       "[['Name',\n",
       "  'Breed',\n",
       "  'Good Doggy?',\n",
       "  'Length [cm]',\n",
       "  'Weight Range',\n",
       "  'Body Temp [F]'],\n",
       " ['Buddy', 'Golden Retriever', True, 154.8384, 3, 101.5],\n",
       " ['Cooper', 'Doberman Pinscher', False, 180.6448, 1, 105.2],\n",
       " ['Max', 'German Shepherd', True, 167.7416, 1, 100.2],\n",
       " ['Bella', 'Chow Chow', False, 129.03199999999998, 1, 100.5],\n",
       " ['Lucy', 'Yorkshire Terrier', True, 58.0644, 1, 102.0],\n",
       " ['Charlie', 'Beagle', True, 83.8708, 3, 100.4],\n",
       " ['Daisy', 'Akita', False, 154.8384, 1, 99.8],\n",
       " ['Bailey', 'Jack Russell Terrier', False, 64.51599999999999, 0, 101.2],\n",
       " ['Lola', 'Rottweiler', True, 174.1932, 1, 102.5],\n",
       " ['Sadie', 'Siberian Husky', False, 148.3868, 1, 99.5],\n",
       " ['Penny', 'Standard Poodle', True, 116.1288, 0, 100.7],\n",
       " ['Bruno', 'Bulldog', False, 90.3224, 1, 104.1],\n",
       " ['Rosie', 'Beagle', True, 83.8708, 1, 100.6],\n",
       " ['Duke', 'Doberman Pinscher', True, 180.6448, 1, 100.1],\n",
       " ['Luna', 'Shiba Inu', True, 109.6772, 2, 100.3],\n",
       " ['Scout', 'Golden Retriever', True, 141.9352, 1, 103.5],\n",
       " ['Rex', 'Rottweiler', False, 148.3868, 1, 100.2]]"
      ]
     },
     "execution_count": 16,
     "metadata": {},
     "output_type": "execute_result"
    }
   ],
   "source": [
    "def convert_inch_cm(inches):\n",
    "    return inches*2.54\n",
    "\n",
    "for ix, row in enumerate(dog_data):\n",
    "    if ix > 0:\n",
    "        row[3] = convert_inch_cm(row[3])\n",
    "\n",
    "dog_data[0][3] = \"Length [cm]\"\n",
    "\n",
    "dog_data"
   ]
  },
  {
   "cell_type": "markdown",
   "metadata": {},
   "source": [
    "3. Convert Good/Bad doggy column to boolean"
   ]
  },
  {
   "cell_type": "code",
   "execution_count": 17,
   "metadata": {},
   "outputs": [
    {
     "data": {
      "text/plain": [
       "[['Name',\n",
       "  'Breed',\n",
       "  'Good Doggy?',\n",
       "  'Length [cm]',\n",
       "  'Weight Range',\n",
       "  'Body Temp [F]'],\n",
       " ['Buddy', 'Golden Retriever', True, 154.8384, 3, 101.5],\n",
       " ['Cooper', 'Doberman Pinscher', False, 180.6448, 1, 105.2],\n",
       " ['Max', 'German Shepherd', True, 167.7416, 1, 100.2],\n",
       " ['Bella', 'Chow Chow', False, 129.03199999999998, 1, 100.5],\n",
       " ['Lucy', 'Yorkshire Terrier', True, 58.0644, 1, 102.0],\n",
       " ['Charlie', 'Beagle', True, 83.8708, 3, 100.4],\n",
       " ['Daisy', 'Akita', False, 154.8384, 1, 99.8],\n",
       " ['Bailey', 'Jack Russell Terrier', False, 64.51599999999999, 0, 101.2],\n",
       " ['Lola', 'Rottweiler', True, 174.1932, 1, 102.5],\n",
       " ['Sadie', 'Siberian Husky', False, 148.3868, 1, 99.5],\n",
       " ['Penny', 'Standard Poodle', True, 116.1288, 0, 100.7],\n",
       " ['Bruno', 'Bulldog', False, 90.3224, 1, 104.1],\n",
       " ['Rosie', 'Beagle', True, 83.8708, 1, 100.6],\n",
       " ['Duke', 'Doberman Pinscher', True, 180.6448, 1, 100.1],\n",
       " ['Luna', 'Shiba Inu', True, 109.6772, 2, 100.3],\n",
       " ['Scout', 'Golden Retriever', True, 141.9352, 1, 103.5],\n",
       " ['Rex', 'Rottweiler', False, 148.3868, 1, 100.2]]"
      ]
     },
     "execution_count": 17,
     "metadata": {},
     "output_type": "execute_result"
    }
   ],
   "source": [
    "for ix, row in enumerate(dog_data):\n",
    "    if ix > 0:\n",
    "        if row[2] == \"Good\":\n",
    "            row[2] = True\n",
    "        elif row[2] == \"Bad\":\n",
    "            row[2] = False\n",
    "\n",
    "dog_data"
   ]
  },
  {
   "cell_type": "markdown",
   "metadata": {},
   "source": [
    "4. Convert the ‘Weight’ column to an integer representation."
   ]
  },
  {
   "cell_type": "code",
   "execution_count": 21,
   "metadata": {},
   "outputs": [
    {
     "data": {
      "text/plain": [
       "[['Name',\n",
       "  'Breed',\n",
       "  'Good Doggy?',\n",
       "  'Length [in]',\n",
       "  'Weight Range',\n",
       "  'Body Temp [F]'],\n",
       " ['Buddy', 'Golden Retriever', 'Good', 24, 3, 101.5],\n",
       " ['Cooper', 'Doberman Pinscher', 'Bad', 28, 1, 105.2],\n",
       " ['Max', 'GERMAN Shepherd', 'Good', 26, 1, 100.2],\n",
       " ['Bella', 'Chow Chow', 'Bad', 20, 1, 100.5],\n",
       " ['Lucy', ' Yorkshire Terrier', 'Good', 9, 1, 102.0],\n",
       " ['Charlie', 'Beagle', 'Good', 13, 3, 100.4],\n",
       " ['Daisy', 'Akita', 'Bad', 24, 1, 99.8],\n",
       " ['Bailey', 'JACK russell terrier', 'Bad', 10, 0, 101.2],\n",
       " ['Lola', 'Rottweiler   ', 'Good', 27, 1, 102.5],\n",
       " ['Sadie', 'Siberian_Husky', 'Bad', 23, 1, 99.5],\n",
       " ['Penny', 'STANDARD Poodle', 'Good', 18, 0, 100.7],\n",
       " ['Bruno', 'Bulldog', 'Bad', 14, 1, 104.1],\n",
       " ['Rosie', 'Beagle', 'Good', 13, 1, 100.6],\n",
       " ['Duke', '    DOBERMAN PINSCHER', 'Good', 28, 1, 100.1],\n",
       " ['Luna', 'Shiba Inu', 'Good', 17, 2, 100.3],\n",
       " ['Scout', 'Golden_Retriever', 'Good', 22, 1, 103.5],\n",
       " ['Rex', 'Rottweiler', 'Bad', 23, 1, 100.2]]"
      ]
     },
     "execution_count": 21,
     "metadata": {},
     "output_type": "execute_result"
    }
   ],
   "source": [
    "value_mapper = {\"Underweight\":0, \"Normal\":1, \"Obese\":2, \"Overweight\":3}\n",
    "\n",
    "for ix, row in enumerate(dog_data):\n",
    "    if ix > 0:\n",
    "        row[4] = value_mapper[row[4]]\n",
    "\n",
    "dog_data"
   ]
  },
  {
   "cell_type": "markdown",
   "metadata": {},
   "source": [
    "5. Create a new column called Has_Fever. The value should yield 0 if a dog has normal body temperature and 1 if a dog is running a fever. A dog should be flagged as having a fever if their body temperature is above 102 F."
   ]
  },
  {
   "cell_type": "code",
   "execution_count": 22,
   "metadata": {},
   "outputs": [
    {
     "data": {
      "text/plain": [
       "[['Name',\n",
       "  'Breed',\n",
       "  'Good Doggy?',\n",
       "  'Length [in]',\n",
       "  'Weight Range',\n",
       "  'Body Temp [F]',\n",
       "  'Has_Fever'],\n",
       " ['Buddy', 'Golden Retriever', 'Good', 24, 3, 101.5, False],\n",
       " ['Cooper', 'Doberman Pinscher', 'Bad', 28, 1, 105.2, True],\n",
       " ['Max', 'GERMAN Shepherd', 'Good', 26, 1, 100.2, False],\n",
       " ['Bella', 'Chow Chow', 'Bad', 20, 1, 100.5, False],\n",
       " ['Lucy', ' Yorkshire Terrier', 'Good', 9, 1, 102.0, False],\n",
       " ['Charlie', 'Beagle', 'Good', 13, 3, 100.4, False],\n",
       " ['Daisy', 'Akita', 'Bad', 24, 1, 99.8, False],\n",
       " ['Bailey', 'JACK russell terrier', 'Bad', 10, 0, 101.2, False],\n",
       " ['Lola', 'Rottweiler   ', 'Good', 27, 1, 102.5, True],\n",
       " ['Sadie', 'Siberian_Husky', 'Bad', 23, 1, 99.5, False],\n",
       " ['Penny', 'STANDARD Poodle', 'Good', 18, 0, 100.7, False],\n",
       " ['Bruno', 'Bulldog', 'Bad', 14, 1, 104.1, True],\n",
       " ['Rosie', 'Beagle', 'Good', 13, 1, 100.6, False],\n",
       " ['Duke', '    DOBERMAN PINSCHER', 'Good', 28, 1, 100.1, False],\n",
       " ['Luna', 'Shiba Inu', 'Good', 17, 2, 100.3, False],\n",
       " ['Scout', 'Golden_Retriever', 'Good', 22, 1, 103.5, True],\n",
       " ['Rex', 'Rottweiler', 'Bad', 23, 1, 100.2, False]]"
      ]
     },
     "execution_count": 22,
     "metadata": {},
     "output_type": "execute_result"
    }
   ],
   "source": [
    "dog_data[0].append(\"Has_Fever\")\n",
    "\n",
    "for ix, row in enumerate(dog_data):\n",
    "    if ix > 0:\n",
    "        if row[5] > 102:\n",
    "            row.append(True)\n",
    "        else:\n",
    "            row.append(False)\n",
    "\n",
    "dog_data"
   ]
  },
  {
   "cell_type": "markdown",
   "metadata": {},
   "source": [
    "6. Run cell to display all changes you have made."
   ]
  },
  {
   "cell_type": "code",
   "execution_count": 23,
   "metadata": {},
   "outputs": [
    {
     "data": {
      "text/plain": [
       "[['Name',\n",
       "  'Breed',\n",
       "  'Good Doggy?',\n",
       "  'Length [in]',\n",
       "  'Weight Range',\n",
       "  'Body Temp [F]',\n",
       "  'Has_Fever'],\n",
       " ['Buddy', 'Golden Retriever', 'Good', 24, 3, 101.5, False],\n",
       " ['Cooper', 'Doberman Pinscher', 'Bad', 28, 1, 105.2, True],\n",
       " ['Max', 'GERMAN Shepherd', 'Good', 26, 1, 100.2, False],\n",
       " ['Bella', 'Chow Chow', 'Bad', 20, 1, 100.5, False],\n",
       " ['Lucy', ' Yorkshire Terrier', 'Good', 9, 1, 102.0, False],\n",
       " ['Charlie', 'Beagle', 'Good', 13, 3, 100.4, False],\n",
       " ['Daisy', 'Akita', 'Bad', 24, 1, 99.8, False],\n",
       " ['Bailey', 'JACK russell terrier', 'Bad', 10, 0, 101.2, False],\n",
       " ['Lola', 'Rottweiler   ', 'Good', 27, 1, 102.5, True],\n",
       " ['Sadie', 'Siberian_Husky', 'Bad', 23, 1, 99.5, False],\n",
       " ['Penny', 'STANDARD Poodle', 'Good', 18, 0, 100.7, False],\n",
       " ['Bruno', 'Bulldog', 'Bad', 14, 1, 104.1, True],\n",
       " ['Rosie', 'Beagle', 'Good', 13, 1, 100.6, False],\n",
       " ['Duke', '    DOBERMAN PINSCHER', 'Good', 28, 1, 100.1, False],\n",
       " ['Luna', 'Shiba Inu', 'Good', 17, 2, 100.3, False],\n",
       " ['Scout', 'Golden_Retriever', 'Good', 22, 1, 103.5, True],\n",
       " ['Rex', 'Rottweiler', 'Bad', 23, 1, 100.2, False]]"
      ]
     },
     "execution_count": 23,
     "metadata": {},
     "output_type": "execute_result"
    }
   ],
   "source": [
    "dog_data"
   ]
  }
 ],
 "metadata": {
  "kernelspec": {
   "display_name": "Python (learn-env)",
   "language": "python",
   "name": "learn-env"
  },
  "language_info": {
   "codemirror_mode": {
    "name": "ipython",
    "version": 3
   },
   "file_extension": ".py",
   "mimetype": "text/x-python",
   "name": "python",
   "nbconvert_exporter": "python",
   "pygments_lexer": "ipython3",
   "version": "3.8.5"
  }
 },
 "nbformat": 4,
 "nbformat_minor": 2
}
